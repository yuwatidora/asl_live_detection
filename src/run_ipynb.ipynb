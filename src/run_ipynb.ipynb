{
 "cells": [
  {
   "cell_type": "code",
   "execution_count": 5,
   "metadata": {},
   "outputs": [
    {
     "name": "stdout",
     "output_type": "stream",
     "text": [
      "WARNING:tensorflow:From C:\\Users\\ramis\\AppData\\Local\\Packages\\PythonSoftwareFoundation.Python.3.11_qbz5n2kfra8p0\\LocalCache\\local-packages\\Python311\\site-packages\\keras\\src\\losses.py:2976: The name tf.losses.sparse_softmax_cross_entropy is deprecated. Please use tf.compat.v1.losses.sparse_softmax_cross_entropy instead.\n",
      "\n"
     ]
    },
    {
     "ename": "ModuleNotFoundError",
     "evalue": "No module named 'non_max_suppression'",
     "output_type": "error",
     "traceback": [
      "\u001b[1;31m---------------------------------------------------------------------------\u001b[0m",
      "\u001b[1;31mModuleNotFoundError\u001b[0m                       Traceback (most recent call last)",
      "Cell \u001b[1;32mIn[5], line 2\u001b[0m\n\u001b[0;32m      1\u001b[0m \u001b[38;5;28;01mimport\u001b[39;00m \u001b[38;5;21;01mcv2\u001b[39;00m\n\u001b[1;32m----> 2\u001b[0m \u001b[38;5;28;01mfrom\u001b[39;00m \u001b[38;5;21;01msrc\u001b[39;00m\u001b[38;5;21;01m.\u001b[39;00m\u001b[38;5;21;01mhand_tracker_nms\u001b[39;00m \u001b[38;5;28;01mimport\u001b[39;00m HandTrackerNMS\n\u001b[0;32m      3\u001b[0m \u001b[38;5;28;01mimport\u001b[39;00m \u001b[38;5;21;01msrc\u001b[39;00m\u001b[38;5;21;01m.\u001b[39;00m\u001b[38;5;21;01mextra\u001b[39;00m\n\u001b[0;32m      4\u001b[0m \u001b[38;5;28;01mimport\u001b[39;00m \u001b[38;5;21;01mjoblib\u001b[39;00m\n",
      "File \u001b[1;32mc:\\Users\\ramis\\OneDrive\\Documents\\Computer Science\\CS341 - Computer Vision\\final_project_testing\\Gesture-Recognition\\src\\hand_tracker_nms.py:6\u001b[0m\n\u001b[0;32m      4\u001b[0m \u001b[38;5;28;01mimport\u001b[39;00m \u001b[38;5;21;01mtensorflow\u001b[39;00m \u001b[38;5;28;01mas\u001b[39;00m \u001b[38;5;21;01mtf\u001b[39;00m\n\u001b[0;32m      5\u001b[0m \u001b[38;5;66;03m# from src.non_max_suppression import non_max_suppression_fast\u001b[39;00m\n\u001b[1;32m----> 6\u001b[0m \u001b[38;5;28;01mfrom\u001b[39;00m \u001b[38;5;21;01mnon_max_suppression\u001b[39;00m \u001b[38;5;28;01mimport\u001b[39;00m non_max_suppression_fast\n\u001b[0;32m     10\u001b[0m \u001b[38;5;28;01mclass\u001b[39;00m \u001b[38;5;21;01mHandTrackerNMS\u001b[39;00m:\n\u001b[0;32m     11\u001b[0m \u001b[38;5;250m    \u001b[39m\u001b[38;5;124mr\u001b[39m\u001b[38;5;124;03m\"\"\"\u001b[39;00m\n\u001b[0;32m     12\u001b[0m \u001b[38;5;124;03m    Class to use Google's Mediapipe HandTracking pipeline from Python.\u001b[39;00m\n\u001b[0;32m     13\u001b[0m \u001b[38;5;124;03m    So far only detection of a single hand is supported.\u001b[39;00m\n\u001b[1;32m   (...)\u001b[0m\n\u001b[0;32m     24\u001b[0m \u001b[38;5;124;03m        >> keypoints, bbox = det(input_img)\u001b[39;00m\n\u001b[0;32m     25\u001b[0m \u001b[38;5;124;03m    \"\"\"\u001b[39;00m\n",
      "\u001b[1;31mModuleNotFoundError\u001b[0m: No module named 'non_max_suppression'"
     ]
    }
   ],
   "source": [
    "import cv2\n",
    "from src.hand_tracker_nms import HandTrackerNMS\n",
    "import src.extra\n",
    "import joblib\n",
    "\n",
    "\n",
    "WINDOW = \"Hand Tracking\"\n",
    "PALM_MODEL_PATH = \"models\\palm_detection_without_custom_op.tflite\"\n",
    "LANDMARK_MODEL_PATH = \"models\\hand_landmark.tflite\"\n",
    "ANCHORS_PATH = \"models\\anchors.csv\"\n",
    "\n",
    "connections = src.extra.connections\n",
    "int_to_char = src.extra.classes\n",
    "\n",
    "detector = HandTrackerNMS(\n",
    "    PALM_MODEL_PATH,\n",
    "    LANDMARK_MODEL_PATH,\n",
    "    ANCHORS_PATH,\n",
    "    box_shift=0.2,\n",
    "    box_enlarge=1.3\n",
    ")\n",
    "\n",
    "gesture_clf = joblib.load(r'models\\\\gesture_clf.pkl')"
   ]
  },
  {
   "cell_type": "code",
   "execution_count": 3,
   "metadata": {
    "scrolled": true
   },
   "outputs": [],
   "source": [
    "image_orig = cv2.imread(\"C:\\Users\\ramis\\OneDrive\\Documents\\Computer Science\\CS341 - Computer Vision\\final_project_testing\\Gesture-Recognition\\Screenshot 2023-12-08 005952.png\")\n",
    "image = cv2.cvtColor(image_orig, cv2.COLOR_BGR2RGB)\n",
    "points, bbox, joints = detector(image)\n",
    "\n",
    "if points is not None:\n",
    "    src.extra.draw_points(points, image_orig)\n",
    "    pred_sign = src.extra.predict_sign(joints, gesture_clf, int_to_char)\n",
    "    \n",
    "    src.extra.draw_sign(pred_sign, image_orig, (50, 780))\n",
    "    \n",
    "cv2.imshow(WINDOW, image_orig)\n",
    "\n",
    "cv2.waitKey(0)\n",
    "cv2.destroyAllWindows()"
   ]
  },
  {
   "cell_type": "code",
   "execution_count": null,
   "metadata": {},
   "outputs": [],
   "source": []
  }
 ],
 "metadata": {
  "kernelspec": {
   "display_name": "Python 3",
   "language": "python",
   "name": "python3"
  },
  "language_info": {
   "codemirror_mode": {
    "name": "ipython",
    "version": 3
   },
   "file_extension": ".py",
   "mimetype": "text/x-python",
   "name": "python",
   "nbconvert_exporter": "python",
   "pygments_lexer": "ipython3",
   "version": "3.11.7"
  }
 },
 "nbformat": 4,
 "nbformat_minor": 2
}
