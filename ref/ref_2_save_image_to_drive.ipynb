{
  "nbformat": 4,
  "nbformat_minor": 0,
  "metadata": {
    "colab": {
      "provenance": []
    },
    "kernelspec": {
      "name": "python3",
      "display_name": "Python 3"
    },
    "accelerator": "GPU"
  },
  "cells": [
    {
      "cell_type": "markdown",
      "metadata": {
        "id": "jzRKNe1iSlNW"
      },
      "source": [
        "### ref 2: Saving Image to Drive\n",
        "This notebook will go through how to mount your google drive with the colab notebook and save images a google folder. You are welcome to incorporate this feature in your final project if you would like a fun snapshot of the interaction captured, saved, and shared with the participants.\n",
        "\n",
        "`ver. 111223`"
      ]
    },
    {
      "cell_type": "code",
      "metadata": {
        "id": "Fj9YcAnsT4B_"
      },
      "source": [
        "from PIL import Image\n",
        "import os\n",
        "from pathlib import Path\n",
        "import numpy as np\n",
        "\n",
        "from google.colab import drive\n",
        "drive.mount('/content/drive')\n",
        "path = r\"/content/drive/MyDrive/MHC-Teaching/COMSC 341-CV Computer Vision/Fall 2023/assignments/final-project/\" # to change!\n",
        "os.chdir(path)\n",
        "\n",
        "imarray = np.random.rand(100,100,3) * 255\n",
        "im = Image.fromarray(imarray.astype('uint8')).convert('RGBA')\n",
        "im.save(path+\"test.png\") # Image saving to another directory\n"
      ],
      "execution_count": null,
      "outputs": []
    }
  ]
}